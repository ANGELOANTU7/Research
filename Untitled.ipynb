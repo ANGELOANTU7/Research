{
 "cells": [
  {
   "cell_type": "code",
   "execution_count": 6,
   "id": "043ff6b8",
   "metadata": {},
   "outputs": [],
   "source": [
    "import pandas as pd\n",
    "\n",
    "# read the CSV file into a DataFrame\n",
    "df = pd.read_csv('grades.csv')\n",
    "\n",
    "# count the number of times \"to-be-graded\" appears in the \"status\" column\n",
    "count = (df['status'] == 'to-be-graded').sum()\n",
    "\n",
    "# create a new DataFrame with the count\n",
    "result_df = pd.DataFrame({'to-be-graded count': [count]})\n",
    "\n",
    "# write the result DataFrame to a new CSV file\n",
    "result_df.to_csv('tobe.csv', index=False)\n"
   ]
  },
  {
   "cell_type": "code",
   "execution_count": null,
   "id": "a9309a04",
   "metadata": {},
   "outputs": [],
   "source": []
  }
 ],
 "metadata": {
  "kernelspec": {
   "display_name": "Python 3 (ipykernel)",
   "language": "python",
   "name": "python3"
  },
  "language_info": {
   "codemirror_mode": {
    "name": "ipython",
    "version": 3
   },
   "file_extension": ".py",
   "mimetype": "text/x-python",
   "name": "python",
   "nbconvert_exporter": "python",
   "pygments_lexer": "ipython3",
   "version": "3.8.10"
  }
 },
 "nbformat": 4,
 "nbformat_minor": 5
}
